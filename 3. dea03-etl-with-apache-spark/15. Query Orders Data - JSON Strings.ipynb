{
 "cells": [
  {
   "cell_type": "markdown",
   "metadata": {
    "application/vnd.databricks.v1+cell": {
     "cellMetadata": {},
     "inputWidgets": {},
     "nuid": "1be7c0bf-7faf-42b4-82a4-114318b531b6",
     "showTitle": false,
     "tableResultSettingsMap": {},
     "title": ""
    }
   },
   "source": [
    "#Query Orders Data as JSON Strings\n",
    "1. Extract Top Level Columns Values\n",
    "2. Extract Array elements\n",
    "3. Extract Nested Column Values\n",
    "4. CAST Column Values to a Specific Data Type"
   ]
  },
  {
   "cell_type": "code",
   "execution_count": 0,
   "metadata": {
    "application/vnd.databricks.v1+cell": {
     "cellMetadata": {
      "byteLimit": 2048000,
      "implicitDf": true,
      "rowLimit": 10000
     },
     "inputWidgets": {},
     "nuid": "7e408137-a30d-400e-9eff-2197be1698d0",
     "showTitle": false,
     "tableResultSettingsMap": {},
     "title": ""
    }
   },
   "outputs": [],
   "source": [
    "%sql\n",
    "SELECT * FROM gizmobox.bronze.v_orders;"
   ]
  },
  {
   "cell_type": "code",
   "execution_count": 0,
   "metadata": {
    "application/vnd.databricks.v1+cell": {
     "cellMetadata": {
      "byteLimit": 2048000,
      "implicitDf": true,
      "rowLimit": 10000
     },
     "inputWidgets": {},
     "nuid": "6ca9dc1b-f2b3-4d7c-a559-35db13b5e2cb",
     "showTitle": true,
     "tableResultSettingsMap": {},
     "title": "1. Extract Top Level Columns Values"
    }
   },
   "outputs": [],
   "source": [
    "%sql\n",
    "SELECT value:order_id AS order_id,\n",
    "       value\n",
    "FROM gizmobox.bronze.v_orders;"
   ]
  },
  {
   "cell_type": "code",
   "execution_count": 0,
   "metadata": {
    "application/vnd.databricks.v1+cell": {
     "cellMetadata": {
      "byteLimit": 2048000,
      "implicitDf": true,
      "rowLimit": 10000
     },
     "inputWidgets": {},
     "nuid": "bafe3c26-eff5-428c-bb4b-e761e1641dfb",
     "showTitle": true,
     "tableResultSettingsMap": {
      "0": {
       "dataGridStateBlob": "{\"version\":1,\"tableState\":{\"columnPinning\":{\"left\":[\"#row_number#\"],\"right\":[]},\"columnSizing\":{},\"columnVisibility\":{}},\"settings\":{\"columns\":{}},\"syncTimestamp\":1760160394886}",
       "filterBlob": null,
       "queryPlanFiltersBlob": null,
       "tableResultIndex": 0
      }
     },
     "title": "2. Extract Array elements"
    }
   },
   "outputs": [],
   "source": [
    "%sql\n",
    "SELECT value:items[0] AS item_1,\n",
    "       value:items[1] AS item_2,\n",
    "       value\n",
    "FROM gizmobox.bronze.v_orders;"
   ]
  },
  {
   "cell_type": "code",
   "execution_count": 0,
   "metadata": {
    "application/vnd.databricks.v1+cell": {
     "cellMetadata": {
      "byteLimit": 2048000,
      "implicitDf": true,
      "rowLimit": 10000
     },
     "inputWidgets": {},
     "nuid": "d4eff11e-f964-4b74-9724-81c88eb2f17b",
     "showTitle": true,
     "tableResultSettingsMap": {},
     "title": "3. Extract Nested Column Values"
    }
   },
   "outputs": [],
   "source": [
    "%sql\n",
    "SELECT value:items[0].item_id AS item_1_item_id,\n",
    "       value:items[0],\n",
    "       value:items[1] AS item_2,\n",
    "       value\n",
    "FROM gizmobox.bronze.v_orders;"
   ]
  },
  {
   "cell_type": "code",
   "execution_count": 0,
   "metadata": {
    "application/vnd.databricks.v1+cell": {
     "cellMetadata": {
      "byteLimit": 2048000,
      "implicitDf": true,
      "rowLimit": 10000
     },
     "inputWidgets": {},
     "nuid": "6f424a3f-d739-45af-b0fa-c26af098ce0a",
     "showTitle": true,
     "tableResultSettingsMap": {},
     "title": "4. CAST Column Values to a Specific Data Type"
    }
   },
   "outputs": [],
   "source": [
    "%sql\n",
    "SELECT value:items[0].item_id::INTEGER AS item_1_item_id,\n",
    "       value:items[0],\n",
    "       value:items[1] AS item_2,\n",
    "       value\n",
    "FROM gizmobox.bronze.v_orders;"
   ]
  }
 ],
 "metadata": {
  "application/vnd.databricks.v1+notebook": {
   "computePreferences": null,
   "dashboards": [],
   "environmentMetadata": {
    "base_environment": "",
    "environment_version": "4"
   },
   "inputWidgetPreferences": null,
   "language": "python",
   "notebookMetadata": {
    "mostRecentlyExecutedCommandWithImplicitDF": {
     "commandId": 6394611525707087,
     "dataframes": [
      "_sqldf"
     ]
    },
    "pythonIndentUnit": 4
   },
   "notebookName": "15. Query Orders Data - JSON Strings",
   "widgets": {}
  },
  "language_info": {
   "name": "python"
  }
 },
 "nbformat": 4,
 "nbformat_minor": 0
}
