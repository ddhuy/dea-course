{
 "cells": [
  {
   "cell_type": "markdown",
   "metadata": {
    "application/vnd.databricks.v1+cell": {
     "cellMetadata": {},
     "inputWidgets": {},
     "nuid": "0efa5ac2-4a42-4a8f-8131-cc37d3bfbcc6",
     "showTitle": false,
     "tableResultSettingsMap": {},
     "title": ""
    }
   },
   "source": [
    "# Configure Access to Cloud Storage via Unity Catalog"
   ]
  },
  {
   "cell_type": "code",
   "execution_count": 0,
   "metadata": {
    "application/vnd.databricks.v1+cell": {
     "cellMetadata": {
      "byteLimit": 2048000,
      "implicitDf": true,
      "rowLimit": 10000
     },
     "inputWidgets": {},
     "nuid": "3f97f18f-80c8-4dbc-b314-6a1415c79be3",
     "showTitle": true,
     "tableResultSettingsMap": {},
     "title": "Create External Location"
    }
   },
   "outputs": [],
   "source": [
    "%sql\n",
    "CREATE EXTERNAL LOCATION IF NOT EXISTS dea_course_ext_dl_demo\n",
    "  URL 'abfss://demo@deacourseextdl137.dfs.core.windows.net/' \n",
    "  WITH (STORAGE CREDENTIAL dea_course_ext_sc)\n",
    "  COMMENT 'External Location for Demo Purposes'"
   ]
  },
  {
   "cell_type": "code",
   "execution_count": 0,
   "metadata": {
    "application/vnd.databricks.v1+cell": {
     "cellMetadata": {
      "byteLimit": 2048000,
      "rowLimit": 10000
     },
     "inputWidgets": {},
     "nuid": "ca2ce394-f569-472d-bbe7-3f8f7ed2f87a",
     "showTitle": true,
     "tableResultSettingsMap": {},
     "title": "Access Cloud Storage"
    }
   },
   "outputs": [],
   "source": [
    "%fs ls \"abfss://demo@deacourseextdl137.dfs.core.windows.net/\""
   ]
  }
 ],
 "metadata": {
  "application/vnd.databricks.v1+notebook": {
   "computePreferences": {
    "hardware": {
     "accelerator": null,
     "gpuPoolId": null,
     "memory": null
    }
   },
   "dashboards": [],
   "environmentMetadata": {
    "base_environment": "",
    "environment_version": "3"
   },
   "inputWidgetPreferences": null,
   "language": "python",
   "notebookMetadata": {
    "mostRecentlyExecutedCommandWithImplicitDF": {
     "commandId": 5390838264159772,
     "dataframes": [
      "_sqldf"
     ]
    },
    "pythonIndentUnit": 4
   },
   "notebookName": "2. Configure access to Cloud Storage",
   "widgets": {}
  },
  "language_info": {
   "name": "python"
  }
 },
 "nbformat": 4,
 "nbformat_minor": 0
}
