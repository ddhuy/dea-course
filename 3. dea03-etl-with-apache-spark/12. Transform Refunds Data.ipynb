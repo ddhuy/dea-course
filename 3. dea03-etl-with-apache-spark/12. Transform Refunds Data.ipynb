{
 "cells": [
  {
   "cell_type": "markdown",
   "metadata": {
    "application/vnd.databricks.v1+cell": {
     "cellMetadata": {},
     "inputWidgets": {},
     "nuid": "8a4ceb62-3857-4cba-9496-785e1556e6dd",
     "showTitle": false,
     "tableResultSettingsMap": {},
     "title": ""
    }
   },
   "source": [
    "#Transform Refunds Data\n",
    "1. Extract specific portion of the string from refund_reason using split function\n",
    "2. Extract specific portion of the string from refund_reason using regexp_extract function\n",
    "3. Extract date and time from the refund_timestamp\n",
    "4. Write transformed data to the Silver schema in hive metastore"
   ]
  },
  {
   "cell_type": "code",
   "execution_count": 0,
   "metadata": {
    "application/vnd.databricks.v1+cell": {
     "cellMetadata": {
      "byteLimit": 2048000,
      "implicitDf": true,
      "rowLimit": 10000
     },
     "inputWidgets": {},
     "nuid": "41c91492-65ec-4740-875f-cc31426522b3",
     "showTitle": false,
     "tableResultSettingsMap": {},
     "title": ""
    }
   },
   "outputs": [],
   "source": [
    "%sql\n",
    "FROM hive_metastore.bronze.refunds\n",
    "SELECT refund_id,\n",
    "       payment_id,\n",
    "       refund_timestamp,\n",
    "       refund_amount,\n",
    "       refund_reason;"
   ]
  },
  {
   "cell_type": "code",
   "execution_count": 0,
   "metadata": {
    "application/vnd.databricks.v1+cell": {
     "cellMetadata": {
      "byteLimit": 2048000,
      "implicitDf": true,
      "rowLimit": 10000
     },
     "inputWidgets": {},
     "nuid": "4012784f-6af0-4d8d-bbce-27df2097023b",
     "showTitle": true,
     "tableResultSettingsMap": {
      "0": {
       "dataGridStateBlob": "{\"version\":1,\"tableState\":{\"columnPinning\":{\"left\":[\"#row_number#\"],\"right\":[]},\"columnSizing\":{\"refund_timestamp\":240},\"columnVisibility\":{}},\"settings\":{\"columns\":{}},\"syncTimestamp\":1759990187257}",
       "filterBlob": null,
       "queryPlanFiltersBlob": null,
       "tableResultIndex": 0
      }
     },
     "title": "1. Extract specific portion of the string from refund_reason using split function"
    }
   },
   "outputs": [],
   "source": [
    "%sql\n",
    "FROM hive_metastore.bronze.refunds\n",
    "SELECT refund_id,\n",
    "       payment_id,\n",
    "       refund_timestamp,\n",
    "       refund_amount,\n",
    "       SPLIT(refund_reason, ':')[0] AS refund_reason,\n",
    "       SPLIT(refund_reason, ':')[1] AS refund_source;"
   ]
  },
  {
   "cell_type": "code",
   "execution_count": 0,
   "metadata": {
    "application/vnd.databricks.v1+cell": {
     "cellMetadata": {
      "byteLimit": 2048000,
      "implicitDf": true,
      "rowLimit": 10000
     },
     "inputWidgets": {},
     "nuid": "8f353183-dbd5-4dfa-ae48-ab67e2c98185",
     "showTitle": true,
     "tableResultSettingsMap": {},
     "title": "2. Extract specific portion of the string from refund_reason using regexp_extract function"
    }
   },
   "outputs": [],
   "source": [
    "%sql\n",
    "FROM hive_metastore.bronze.refunds\n",
    "SELECT refund_id,\n",
    "       payment_id,\n",
    "       refund_timestamp,\n",
    "       refund_amount,\n",
    "       regexp_extract(refund_reason, '^([^:]+):', 1) AS refund_reason,\n",
    "       regexp_extract(refund_reason, '^[^:]+:(.*)$', 1) AS refund_source;"
   ]
  },
  {
   "cell_type": "code",
   "execution_count": 0,
   "metadata": {
    "application/vnd.databricks.v1+cell": {
     "cellMetadata": {
      "byteLimit": 2048000,
      "implicitDf": true,
      "rowLimit": 10000
     },
     "inputWidgets": {},
     "nuid": "0600cbb5-7fb9-4739-b6bc-922fe4f136a0",
     "showTitle": true,
     "tableResultSettingsMap": {},
     "title": "3. Extract date and time from the refund_timestamp"
    }
   },
   "outputs": [],
   "source": [
    "%sql\n",
    "FROM hive_metastore.bronze.refunds\n",
    "SELECT refund_id,\n",
    "       payment_id,\n",
    "       CAST(date_format(refund_timestamp, 'yyyy-MM-dd') AS DATE) AS refund_date,\n",
    "       date_format(refund_timestamp, 'HH:mm:ss') AS refund_time,\n",
    "       refund_amount,\n",
    "       regexp_extract(refund_reason, '^([^:]+):', 1) AS refund_reason,\n",
    "       regexp_extract(refund_reason, '^[^:]+:(.*)$', 1) AS refund_source;"
   ]
  },
  {
   "cell_type": "code",
   "execution_count": 0,
   "metadata": {
    "application/vnd.databricks.v1+cell": {
     "cellMetadata": {
      "byteLimit": 2048000,
      "implicitDf": true,
      "rowLimit": 10000
     },
     "inputWidgets": {},
     "nuid": "ae698b9f-0137-43e2-9f2f-9f665d288728",
     "showTitle": true,
     "tableResultSettingsMap": {},
     "title": "4. Write transformed data to the Silver schema in hive metastore"
    }
   },
   "outputs": [],
   "source": [
    "%sql\n",
    "CREATE SCHEMA IF NOT EXISTS hive_metastore.silver;"
   ]
  },
  {
   "cell_type": "code",
   "execution_count": 0,
   "metadata": {
    "application/vnd.databricks.v1+cell": {
     "cellMetadata": {
      "byteLimit": 2048000,
      "implicitDf": true,
      "rowLimit": 10000
     },
     "inputWidgets": {},
     "nuid": "b954c692-1bb4-4f92-830e-77f496644bd2",
     "showTitle": false,
     "tableResultSettingsMap": {},
     "title": ""
    }
   },
   "outputs": [],
   "source": [
    "%sql\n",
    "CREATE TABLE IF NOT EXISTS hive_metastore.silver.refunds\n",
    "AS\n",
    "FROM hive_metastore.bronze.refunds\n",
    "SELECT refund_id,\n",
    "       payment_id,\n",
    "       CAST(date_format(refund_timestamp, 'yyyy-MM-dd') AS DATE) AS refund_date,\n",
    "       date_format(refund_timestamp, 'HH:mm:ss') AS refund_time,\n",
    "       refund_amount,\n",
    "       regexp_extract(refund_reason, '^([^:]+):', 1) AS refund_reason,\n",
    "       regexp_extract(refund_reason, '^[^:]+:(.*)$', 1) AS refund_source;"
   ]
  },
  {
   "cell_type": "code",
   "execution_count": 0,
   "metadata": {
    "application/vnd.databricks.v1+cell": {
     "cellMetadata": {
      "byteLimit": 2048000,
      "implicitDf": true,
      "rowLimit": 10000
     },
     "inputWidgets": {},
     "nuid": "c59f09df-94ba-4943-a87e-9f6a7dab3adb",
     "showTitle": false,
     "tableResultSettingsMap": {},
     "title": ""
    }
   },
   "outputs": [],
   "source": [
    "%sql\n",
    "SELECT * FROM hive_metastore.silver.refunds;"
   ]
  },
  {
   "cell_type": "code",
   "execution_count": 0,
   "metadata": {
    "application/vnd.databricks.v1+cell": {
     "cellMetadata": {
      "byteLimit": 2048000,
      "implicitDf": true,
      "rowLimit": 10000
     },
     "inputWidgets": {},
     "nuid": "82d26671-937c-49e2-8797-e2683dc25312",
     "showTitle": false,
     "tableResultSettingsMap": {},
     "title": ""
    }
   },
   "outputs": [],
   "source": [
    "%sql\n",
    "DESC EXTENDED hive_metastore.silver.refunds;"
   ]
  }
 ],
 "metadata": {
  "application/vnd.databricks.v1+notebook": {
   "computePreferences": null,
   "dashboards": [],
   "environmentMetadata": {
    "base_environment": "",
    "environment_version": "4"
   },
   "inputWidgetPreferences": null,
   "language": "python",
   "notebookMetadata": {
    "mostRecentlyExecutedCommandWithImplicitDF": {
     "commandId": 8056457079917023,
     "dataframes": [
      "_sqldf"
     ]
    },
    "pythonIndentUnit": 4
   },
   "notebookName": "12. Transform Refunds Data",
   "widgets": {}
  },
  "language_info": {
   "name": "python"
  }
 },
 "nbformat": 4,
 "nbformat_minor": 0
}
