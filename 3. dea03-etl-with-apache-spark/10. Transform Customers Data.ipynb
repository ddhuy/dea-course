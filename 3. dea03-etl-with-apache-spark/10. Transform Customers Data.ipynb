{
 "cells": [
  {
   "cell_type": "markdown",
   "metadata": {
    "application/vnd.databricks.v1+cell": {
     "cellMetadata": {
      "byteLimit": 2048000,
      "rowLimit": 10000
     },
     "inputWidgets": {},
     "nuid": "1b099833-9de8-48ab-a48f-6d729d152c2c",
     "showTitle": false,
     "tableResultSettingsMap": {},
     "title": ""
    }
   },
   "source": [
    "#Transform Customers Data\n",
    "1. Remove records with NULL customer_id\n",
    "2. Remove exact duplicate records\n",
    "3. Remove duplicate records based on created_timestamp\n",
    "4. CAST the columns to the correct Data Type\n",
    "5. Write transformed data to the Silver schema."
   ]
  },
  {
   "cell_type": "code",
   "execution_count": 0,
   "metadata": {
    "application/vnd.databricks.v1+cell": {
     "cellMetadata": {
      "byteLimit": 2048000,
      "implicitDf": true,
      "rowLimit": 10000
     },
     "inputWidgets": {},
     "nuid": "a1a7e593-3794-4501-a72e-85c3aa5785cb",
     "showTitle": true,
     "tableResultSettingsMap": {},
     "title": "1. Remove records with NULL customer_id"
    }
   },
   "outputs": [],
   "source": [
    "%sql\n",
    "SELECT *\n",
    "FROM gizmobox.bronze.v_customers\n",
    "WHERE customer_id IS NOT NULL;"
   ]
  },
  {
   "cell_type": "code",
   "execution_count": 0,
   "metadata": {
    "application/vnd.databricks.v1+cell": {
     "cellMetadata": {
      "byteLimit": 2048000,
      "implicitDf": true,
      "rowLimit": 10000
     },
     "inputWidgets": {},
     "nuid": "1791a50b-71d6-4420-a40f-158363e6e1ee",
     "showTitle": true,
     "tableResultSettingsMap": {},
     "title": "2. Remove exact duplicate records"
    }
   },
   "outputs": [],
   "source": [
    "%sql\n",
    "SELECT *\n",
    "FROM gizmobox.bronze.v_customers\n",
    "WHERE customer_id IS NOT NULL\n",
    "ORDER BY customer_id;"
   ]
  },
  {
   "cell_type": "code",
   "execution_count": 0,
   "metadata": {
    "application/vnd.databricks.v1+cell": {
     "cellMetadata": {
      "byteLimit": 2048000,
      "implicitDf": true,
      "rowLimit": 10000
     },
     "inputWidgets": {},
     "nuid": "761f9992-54bc-421c-8d5f-42c1ea2ac3ee",
     "showTitle": false,
     "tableResultSettingsMap": {},
     "title": ""
    }
   },
   "outputs": [],
   "source": [
    "%sql\n",
    "SELECT DISTINCT *\n",
    "FROM gizmobox.bronze.v_customers\n",
    "WHERE customer_id IS NOT NULL\n",
    "ORDER BY customer_id;"
   ]
  },
  {
   "cell_type": "code",
   "execution_count": 0,
   "metadata": {
    "application/vnd.databricks.v1+cell": {
     "cellMetadata": {
      "byteLimit": 2048000,
      "implicitDf": true,
      "rowLimit": 10000
     },
     "inputWidgets": {},
     "nuid": "d5d677e6-b85f-49a3-9c86-c6a95c3688a2",
     "showTitle": false,
     "tableResultSettingsMap": {},
     "title": ""
    }
   },
   "outputs": [],
   "source": [
    "%sql\n",
    "SELECT customer_id,\n",
    "       MAX(created_timestamp),\n",
    "       MAX(customer_name),\n",
    "       MAX(date_of_birth),\n",
    "       MAX(email),\n",
    "       MAX(member_since),\n",
    "       MAX(telephone)\n",
    "FROM gizmobox.bronze.v_customers\n",
    "WHERE customer_id IS NOT NULL\n",
    "GROUP BY customer_id\n",
    "ORDER BY customer_id;"
   ]
  },
  {
   "cell_type": "code",
   "execution_count": 0,
   "metadata": {
    "application/vnd.databricks.v1+cell": {
     "cellMetadata": {
      "byteLimit": 2048000,
      "implicitDf": true,
      "rowLimit": 10000
     },
     "inputWidgets": {},
     "nuid": "32e05374-4c66-4928-bb36-5b58be025d60",
     "showTitle": false,
     "tableResultSettingsMap": {},
     "title": ""
    }
   },
   "outputs": [],
   "source": [
    "%sql\n",
    "CREATE OR REPLACE TEMPORARY VIEW v_customers_distinct\n",
    "AS\n",
    "SELECT DISTINCT *\n",
    "FROM gizmobox.bronze.v_customers\n",
    "WHERE customer_id IS NOT NULL\n",
    "ORDER BY customer_id;"
   ]
  },
  {
   "cell_type": "code",
   "execution_count": 0,
   "metadata": {
    "application/vnd.databricks.v1+cell": {
     "cellMetadata": {
      "byteLimit": 2048000,
      "implicitDf": true,
      "rowLimit": 10000
     },
     "inputWidgets": {},
     "nuid": "f4d77d60-b7f6-4dd5-a599-758bb910ea3d",
     "showTitle": false,
     "tableResultSettingsMap": {},
     "title": ""
    }
   },
   "outputs": [],
   "source": [
    "%sql\n",
    "SELECT customer_id,\n",
    "       MAX(created_timestamp) AS max_created_timestamp\n",
    "FROM v_customers_distinct\n",
    "GROUP BY customer_id;"
   ]
  },
  {
   "cell_type": "code",
   "execution_count": 0,
   "metadata": {
    "application/vnd.databricks.v1+cell": {
     "cellMetadata": {
      "byteLimit": 2048000,
      "implicitDf": true,
      "rowLimit": 10000
     },
     "inputWidgets": {},
     "nuid": "337fa876-44db-4663-9242-16c8e75a2dc3",
     "showTitle": true,
     "tableResultSettingsMap": {},
     "title": "3. Remove duplicate records based on created_timestamp"
    }
   },
   "outputs": [],
   "source": [
    "%sql\n",
    "WITH cte_max AS\n",
    "(\n",
    "  SELECT customer_id,\n",
    "         MAX(created_timestamp) AS max_created_timestamp\n",
    "  FROM v_customers_distint\n",
    "  GROUP BY customer_id\n",
    ")\n",
    "SELECT t.*\n",
    "FROM v_customers_distinct AS t\n",
    "JOIN cte_max m\n",
    "ON t.customer_id = m.customer_id AND t.created_timestamp = m.max_created_timestamp;"
   ]
  },
  {
   "cell_type": "code",
   "execution_count": 0,
   "metadata": {
    "application/vnd.databricks.v1+cell": {
     "cellMetadata": {
      "byteLimit": 2048000,
      "implicitDf": true,
      "rowLimit": 10000
     },
     "inputWidgets": {},
     "nuid": "14bb77cb-15ae-44e5-b9d9-cf4cb939a733",
     "showTitle": true,
     "tableResultSettingsMap": {},
     "title": "4. CAST the columns to the correct Data Type"
    }
   },
   "outputs": [],
   "source": [
    "%sql\n",
    "WITH cte_max AS\n",
    "(\n",
    "  SELECT customer_id,\n",
    "         MAX(created_timestamp) AS max_created_timestamp\n",
    "  FROM v_customers_distint\n",
    "  GROUP BY customer_id\n",
    ")\n",
    "SELECT CAST(t.created_timestamp AS TIMESTAMP) AS created_timestamp,\n",
    "       t.customer_id,\n",
    "       t.customer_name,\n",
    "       CAST(t.date_of_birth AS DATE) AS date_of_birth,\n",
    "       t.email,\n",
    "       CAST(t.member_since AS DATE) AS member_since,\n",
    "       t.telephone\n",
    "FROM v_customers_distinct AS t\n",
    "JOIN cte_max m\n",
    "ON t.customer_id = m.customer_id AND t.created_timestamp = m.max_created_timestamp;"
   ]
  },
  {
   "cell_type": "code",
   "execution_count": 0,
   "metadata": {
    "application/vnd.databricks.v1+cell": {
     "cellMetadata": {
      "byteLimit": 2048000,
      "implicitDf": true,
      "rowLimit": 10000
     },
     "inputWidgets": {},
     "nuid": "dfcac11a-19c1-4ce4-b18f-343060efca86",
     "showTitle": true,
     "tableResultSettingsMap": {},
     "title": "5. Write transformed data to the Silver schema"
    }
   },
   "outputs": [],
   "source": [
    "%sql\n",
    "CREATE TABLE gizmobox.silver.customers\n",
    "AS\n",
    "WITH cte_max AS\n",
    "(\n",
    "  SELECT customer_id,\n",
    "         MAX(created_timestamp) AS max_created_timestamp\n",
    "  FROM v_customers_distint\n",
    "  GROUP BY customer_id\n",
    ")\n",
    "SELECT CAST(t.created_timestamp AS TIMESTAMP) AS created_timestamp,\n",
    "       t.customer_id,\n",
    "       t.customer_name,\n",
    "       CAST(t.date_of_birth AS DATE) AS date_of_birth,\n",
    "       t.email,\n",
    "       CAST(t.member_since AS DATE) AS member_since,\n",
    "       t.telephone\n",
    "FROM v_customers_distinct AS t\n",
    "JOIN cte_max m\n",
    "ON t.customer_id = m.customer_id AND t.created_timestamp = m.max_created_timestamp;"
   ]
  },
  {
   "cell_type": "code",
   "execution_count": 0,
   "metadata": {
    "application/vnd.databricks.v1+cell": {
     "cellMetadata": {
      "byteLimit": 2048000,
      "implicitDf": true,
      "rowLimit": 10000
     },
     "inputWidgets": {},
     "nuid": "5ec197d4-7041-4684-8158-ab33be4e2b94",
     "showTitle": false,
     "tableResultSettingsMap": {},
     "title": ""
    }
   },
   "outputs": [],
   "source": [
    "%sql\n",
    "SELECT * FROM gizmobox.silver.customers;"
   ]
  },
  {
   "cell_type": "code",
   "execution_count": 0,
   "metadata": {
    "application/vnd.databricks.v1+cell": {
     "cellMetadata": {
      "byteLimit": 2048000,
      "implicitDf": true,
      "rowLimit": 10000
     },
     "inputWidgets": {},
     "nuid": "6f971c88-2911-43a5-b16d-ecb35f9e46d3",
     "showTitle": false,
     "tableResultSettingsMap": {},
     "title": ""
    }
   },
   "outputs": [],
   "source": [
    "%sql\n",
    "DESCRIBE EXTENDED gizmobox.silver.customers;"
   ]
  }
 ],
 "metadata": {
  "application/vnd.databricks.v1+notebook": {
   "computePreferences": {
    "hardware": {
     "accelerator": null,
     "gpuPoolId": null,
     "memory": null
    }
   },
   "dashboards": [],
   "environmentMetadata": {
    "base_environment": "",
    "environment_version": "4"
   },
   "inputWidgetPreferences": null,
   "language": "python",
   "notebookMetadata": {
    "mostRecentlyExecutedCommandWithImplicitDF": {
     "commandId": 6521573869953533,
     "dataframes": [
      "_sqldf"
     ]
    },
    "pythonIndentUnit": 4
   },
   "notebookName": "10. Transform Customers Data",
   "widgets": {}
  },
  "language_info": {
   "name": "python"
  }
 },
 "nbformat": 4,
 "nbformat_minor": 0
}
