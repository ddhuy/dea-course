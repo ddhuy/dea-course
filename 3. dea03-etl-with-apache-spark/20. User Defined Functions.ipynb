{
 "cells": [
  {
   "cell_type": "markdown",
   "metadata": {
    "application/vnd.databricks.v1+cell": {
     "cellMetadata": {},
     "inputWidgets": {},
     "nuid": "b066b002-961b-472d-93f0-e72c160b2e24",
     "showTitle": false,
     "tableResultSettingsMap": {},
     "title": ""
    }
   },
   "source": [
    "#User Defined Functions (UDF)\n",
    "- User Defined Function (UDF) in Spark are functions created by users to extend the capabilities of Spark SQL and PySpark\n",
    "- UDFs allow us to perfom calculations or transformation to apply business logic that are not possible with built-in functions\n",
    "- You define the function once and use it across multiple queries\n",
    "- SQL UDFs are recommended over Python UDFs due to better optimization\n",
    "\n",
    "###Syntax\n",
    "---\n",
    "**CREATE OR REPLACE FUNCTION** catalog_name.schema_name.udf_name(param_name data_type)\n",
    "\n",
    "**RETURNS** return_type\n",
    "\n",
    "**RETURN** expression;"
   ]
  },
  {
   "cell_type": "code",
   "execution_count": 0,
   "metadata": {
    "application/vnd.databricks.v1+cell": {
     "cellMetadata": {
      "byteLimit": 2048000,
      "implicitDf": true,
      "rowLimit": 10000
     },
     "inputWidgets": {},
     "nuid": "145d30fd-7ed6-4e91-9808-1367eafd8db3",
     "showTitle": false,
     "tableResultSettingsMap": {},
     "title": ""
    }
   },
   "outputs": [],
   "source": [
    "%sql\n",
    "CREATE OR REPLACE FUNCTION gizmobox.default.get_fullname(firstname STRING, surname STRING)\n",
    "RETURNS STRING\n",
    "RETURN CONCAT(initcap(firstname), ' ', initcap(surname));\n"
   ]
  },
  {
   "cell_type": "code",
   "execution_count": 0,
   "metadata": {
    "application/vnd.databricks.v1+cell": {
     "cellMetadata": {
      "byteLimit": 2048000,
      "implicitDf": true,
      "rowLimit": 10000
     },
     "inputWidgets": {},
     "nuid": "52ebc1fb-6151-4188-b7d8-d9e8de3fb098",
     "showTitle": false,
     "tableResultSettingsMap": {},
     "title": ""
    }
   },
   "outputs": [],
   "source": [
    "%sql\n",
    "SELECT gizmobox.default.get_fullname('john', 'smith');"
   ]
  },
  {
   "cell_type": "code",
   "execution_count": 0,
   "metadata": {
    "application/vnd.databricks.v1+cell": {
     "cellMetadata": {
      "byteLimit": 2048000,
      "implicitDf": true,
      "rowLimit": 10000
     },
     "inputWidgets": {},
     "nuid": "3de37a8d-9426-4655-acb8-a2a10da41fbe",
     "showTitle": false,
     "tableResultSettingsMap": {},
     "title": ""
    }
   },
   "outputs": [],
   "source": [
    "%sql\n",
    "DESC FUNCTION EXTENDED gizmobox.default.get_fullname;"
   ]
  },
  {
   "cell_type": "code",
   "execution_count": 0,
   "metadata": {
    "application/vnd.databricks.v1+cell": {
     "cellMetadata": {
      "byteLimit": 2048000,
      "implicitDf": true,
      "rowLimit": 10000
     },
     "inputWidgets": {},
     "nuid": "13b8b322-45d2-40ea-b5d8-3b7a1a86d385",
     "showTitle": false,
     "tableResultSettingsMap": {},
     "title": ""
    }
   },
   "outputs": [],
   "source": [
    "%sql\n",
    "CREATE OR REPLACE FUNCTION gizmobox.default.get__payment_status(payment_status INTEGER)\n",
    "RETURNS STRING\n",
    "RETURN  CASE payment_status\n",
    "          WHEN 1 THEN 'Success'\n",
    "          WHEN 2 THEN 'Pending'\n",
    "          WHEN 3 THEN 'Cancelled'\n",
    "          WHEN 4 THEN 'Failed'\n",
    "          ELSE 'Unknown'\n",
    "        END;\n"
   ]
  },
  {
   "cell_type": "code",
   "execution_count": 0,
   "metadata": {
    "application/vnd.databricks.v1+cell": {
     "cellMetadata": {
      "byteLimit": 2048000,
      "implicitDf": true,
      "rowLimit": 10000
     },
     "inputWidgets": {},
     "nuid": "c8d68877-f621-47d1-8feb-789c55c5ede2",
     "showTitle": false,
     "tableResultSettingsMap": {},
     "title": ""
    }
   },
   "outputs": [],
   "source": [
    "%sql\n",
    "FROM gizmobox.bronze.payments\n",
    "SELECT payment_id,\n",
    "       order_id,\n",
    "       CAST(date_format(payment_timestamp, 'yyyy-MM-dd') AS DATE) AS payment_date,\n",
    "       date_format(payment_timestamp, 'HH:mm:ss') AS payment_time,\n",
    "       gizmobox.default.get__payment_status(payment_status) AS payment_status,\n",
    "       payment_method;"
   ]
  }
 ],
 "metadata": {
  "application/vnd.databricks.v1+notebook": {
   "computePreferences": null,
   "dashboards": [],
   "environmentMetadata": {
    "base_environment": "",
    "environment_version": "4"
   },
   "inputWidgetPreferences": null,
   "language": "python",
   "notebookMetadata": {
    "mostRecentlyExecutedCommandWithImplicitDF": {
     "commandId": 7920221252246880,
     "dataframes": [
      "_sqldf"
     ]
    },
    "pythonIndentUnit": 4
   },
   "notebookName": "20. User Defined Functions",
   "widgets": {}
  },
  "language_info": {
   "name": "python"
  }
 },
 "nbformat": 4,
 "nbformat_minor": 0
}
