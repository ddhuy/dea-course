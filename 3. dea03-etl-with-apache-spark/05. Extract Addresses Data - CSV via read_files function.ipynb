{
 "cells": [
  {
   "cell_type": "markdown",
   "metadata": {
    "application/vnd.databricks.v1+cell": {
     "cellMetadata": {},
     "inputWidgets": {},
     "nuid": "4192283a-cc07-40f9-a6f4-2e2b64fdc574",
     "showTitle": false,
     "tableResultSettingsMap": {},
     "title": ""
    }
   },
   "source": [
    "#Extract Data From Addresses Files\n",
    "1. Demonstrate limitation of CSV file format in SELECT statement\n",
    "2. Use read_files function to overcome the limitations\n",
    "3. Create Addresses view in Bronze schema"
   ]
  },
  {
   "cell_type": "code",
   "execution_count": 0,
   "metadata": {
    "application/vnd.databricks.v1+cell": {
     "cellMetadata": {
      "byteLimit": 2048000,
      "implicitDf": true,
      "rowLimit": 10000
     },
     "inputWidgets": {},
     "nuid": "a1abe13b-15fd-4520-a935-c617853d5c23",
     "showTitle": true,
     "tableResultSettingsMap": {},
     "title": "1. Demonstrate limitation of CSV file format in SELECT statement"
    }
   },
   "outputs": [],
   "source": [
    "%sql\n",
    "SELECT * FROM  csv.`/Volumes/gizmobox/landing/operational_data/addresses`;"
   ]
  },
  {
   "cell_type": "code",
   "execution_count": 0,
   "metadata": {
    "application/vnd.databricks.v1+cell": {
     "cellMetadata": {
      "byteLimit": 2048000,
      "implicitDf": true,
      "rowLimit": 10000
     },
     "inputWidgets": {},
     "nuid": "956d2988-1ded-4a81-a0a5-6f441a3a89cd",
     "showTitle": true,
     "tableResultSettingsMap": {},
     "title": "2. Use read_files function to overcome the limitations"
    }
   },
   "outputs": [],
   "source": [
    "%sql\n",
    "SELECT *\n",
    "FROM read_files('/Volumes/gizmobox/landing/operational_data/addresses', format=>'csv', header=>True, delimiter=>'\\t');"
   ]
  },
  {
   "cell_type": "code",
   "execution_count": 0,
   "metadata": {
    "application/vnd.databricks.v1+cell": {
     "cellMetadata": {
      "byteLimit": 2048000,
      "implicitDf": true,
      "rowLimit": 10000
     },
     "inputWidgets": {},
     "nuid": "1712db0d-042f-466f-8275-3ec1b6236f2e",
     "showTitle": true,
     "tableResultSettingsMap": {},
     "title": "3. Create Addresses view in Bronze schema"
    }
   },
   "outputs": [],
   "source": [
    "%sql\n",
    "CREATE OR REPLACE VIEW gizmobox.bronze.v_addresses\n",
    "AS\n",
    "SELECT *\n",
    "FROM read_files('/Volumes/gizmobox/landing/operational_data/addresses', format=>'csv', header=>True, delimiter=>'\\t');"
   ]
  },
  {
   "cell_type": "code",
   "execution_count": 0,
   "metadata": {
    "application/vnd.databricks.v1+cell": {
     "cellMetadata": {
      "byteLimit": 2048000,
      "implicitDf": true,
      "rowLimit": 10000
     },
     "inputWidgets": {},
     "nuid": "e745a03f-fc0a-4c53-bbac-c2e35ec779e2",
     "showTitle": false,
     "tableResultSettingsMap": {},
     "title": ""
    }
   },
   "outputs": [],
   "source": [
    "%sql\n",
    "SELECT * FROM gizmobox.bronze.v_addresses;"
   ]
  }
 ],
 "metadata": {
  "application/vnd.databricks.v1+notebook": {
   "computePreferences": null,
   "dashboards": [],
   "environmentMetadata": {
    "base_environment": "",
    "environment_version": "3"
   },
   "inputWidgetPreferences": null,
   "language": "python",
   "notebookMetadata": {
    "mostRecentlyExecutedCommandWithImplicitDF": {
     "commandId": 7669640107817822,
     "dataframes": [
      "_sqldf"
     ]
    },
    "pythonIndentUnit": 4
   },
   "notebookName": "05. Extract Addresses Data - CSV via read_files function",
   "widgets": {}
  },
  "language_info": {
   "name": "python"
  }
 },
 "nbformat": 4,
 "nbformat_minor": 0
}
