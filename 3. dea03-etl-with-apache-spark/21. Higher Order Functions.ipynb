{
 "cells": [
  {
   "cell_type": "markdown",
   "metadata": {
    "application/vnd.databricks.v1+cell": {
     "cellMetadata": {
      "byteLimit": 2048000,
      "rowLimit": 10000
     },
     "inputWidgets": {},
     "nuid": "3461d6e0-c5d8-4743-9db7-1ebc636324e1",
     "showTitle": false,
     "tableResultSettingsMap": {},
     "title": ""
    }
   },
   "source": [
    "# Higher Order Functions\n",
    "- Higher Order Functions are functions that operate on complex data types such as arrays and maps\n",
    "- They allow you to pass functions as arguments (such as lambda expressions), apply transformations and return arrays or maps\n",
    "- They are extremely useful for manipylating arrays without exploding them\n",
    "\n",
    "###Commonly used Hgher Order Array Functions\n",
    "- TRANSFORM\n",
    "- FILTER\n",
    "- EXISTS\n",
    "- AGGREGATE\n",
    "\n",
    "###Syntax\n",
    "---\n",
    "`<fucntion_name> (array_column, lambda_expression)`\n",
    "\n",
    "lambda_expression: `element -> expression`"
   ]
  },
  {
   "cell_type": "code",
   "execution_count": 0,
   "metadata": {
    "application/vnd.databricks.v1+cell": {
     "cellMetadata": {
      "byteLimit": 2048000,
      "implicitDf": true,
      "rowLimit": 10000
     },
     "inputWidgets": {},
     "nuid": "c918ef43-02e3-4a1c-af60-e56858b899ee",
     "showTitle": false,
     "tableResultSettingsMap": {},
     "title": ""
    }
   },
   "outputs": [],
   "source": [
    "%sql\n",
    "CREATE OR REPLACE TEMPORARY VIEW order_items\n",
    "AS\n",
    "SELECT * FROM VALUES\n",
    "  (1, array('smartphone', 'laptop', 'monitor')),\n",
    "  (2, array('tablet', 'headphoens', 'smartwatch')),\n",
    "  (3, array('keyboard', 'mouse'))\n",
    "AS orders(order_id, items);"
   ]
  },
  {
   "cell_type": "code",
   "execution_count": 0,
   "metadata": {
    "application/vnd.databricks.v1+cell": {
     "cellMetadata": {
      "byteLimit": 2048000,
      "implicitDf": true,
      "rowLimit": 10000
     },
     "inputWidgets": {},
     "nuid": "6e26d664-fa5c-4520-ab83-77918293f842",
     "showTitle": false,
     "tableResultSettingsMap": {},
     "title": ""
    }
   },
   "outputs": [],
   "source": [
    "%sql\n",
    "SELECT * FROM order_items;"
   ]
  },
  {
   "cell_type": "code",
   "execution_count": 0,
   "metadata": {
    "application/vnd.databricks.v1+cell": {
     "cellMetadata": {
      "byteLimit": 2048000,
      "implicitDf": true,
      "rowLimit": 10000
     },
     "inputWidgets": {},
     "nuid": "cc240ddf-caaf-4eb1-a0f0-90f3136e5824",
     "showTitle": true,
     "tableResultSettingsMap": {},
     "title": "1. Convert all the item names to be UPPERCASE (TRANSFORM Function)"
    }
   },
   "outputs": [],
   "source": [
    "%sql\n",
    "SELECT order_id,\n",
    "       TRANSFORM(items, x -> UPPER(x)) AS upper_items\n",
    "FROM order_items"
   ]
  },
  {
   "cell_type": "code",
   "execution_count": 0,
   "metadata": {
    "application/vnd.databricks.v1+cell": {
     "cellMetadata": {
      "byteLimit": 2048000,
      "implicitDf": true,
      "rowLimit": 10000
     },
     "inputWidgets": {},
     "nuid": "79556fdc-1070-4487-b974-a70876d3bdaa",
     "showTitle": true,
     "tableResultSettingsMap": {
      "0": {
       "dataGridStateBlob": "{\"version\":1,\"tableState\":{\"columnPinning\":{\"left\":[\"#row_number#\"],\"right\":[]},\"columnSizing\":{},\"columnVisibility\":{}},\"settings\":{\"columns\":{}},\"syncTimestamp\":1760382769220}",
       "filterBlob": null,
       "queryPlanFiltersBlob": null,
       "tableResultIndex": 0
      }
     },
     "title": "2. Filter only items that contains the string 'smart' (FILTER Function)"
    }
   },
   "outputs": [],
   "source": [
    "%sql\n",
    "SELECT order_id,\n",
    "       FILTER(items, x -> x ILIKE '%smart%') AS smart_items\n",
    "FROM order_items"
   ]
  },
  {
   "cell_type": "code",
   "execution_count": 0,
   "metadata": {
    "application/vnd.databricks.v1+cell": {
     "cellMetadata": {
      "byteLimit": 2048000,
      "implicitDf": true,
      "rowLimit": 10000
     },
     "inputWidgets": {},
     "nuid": "b9909804-3be1-4e65-bd05-96d2ca6361a3",
     "showTitle": true,
     "tableResultSettingsMap": {},
     "title": "3. Check to see whether the order includes any 'monitor' (EXISTS Function)"
    }
   },
   "outputs": [],
   "source": [
    "%sql\n",
    "SELECT order_id,\n",
    "       EXISTS(items, x -> x = 'monitor') AS has_monitor\n",
    "FROM order_items"
   ]
  },
  {
   "cell_type": "markdown",
   "metadata": {
    "application/vnd.databricks.v1+cell": {
     "cellMetadata": {},
     "inputWidgets": {},
     "nuid": "08f9ed6c-fc81-4d3d-8813-f4e0d447de21",
     "showTitle": false,
     "tableResultSettingsMap": {},
     "title": ""
    }
   },
   "source": [
    "### Array with more than one object"
   ]
  },
  {
   "cell_type": "code",
   "execution_count": 0,
   "metadata": {
    "application/vnd.databricks.v1+cell": {
     "cellMetadata": {
      "byteLimit": 2048000,
      "implicitDf": true,
      "rowLimit": 10000
     },
     "inputWidgets": {},
     "nuid": "e458c9a4-2dd5-43ab-8a3b-d566de0087c1",
     "showTitle": false,
     "tableResultSettingsMap": {},
     "title": ""
    }
   },
   "outputs": [],
   "source": [
    "%sql\n",
    "CREATE OR REPLACE TEMP VIEW order_items\n",
    "AS\n",
    "SELECT * FROM VALUES\n",
    "  (1, ARRAY(NAMED_STRUCT('name', 'smartphone', 'price', 699),\n",
    "            NAMED_STRUCT('name', 'laptop', 'price', 1199),\n",
    "            NAMED_STRUCT('name', 'monitor', 'price', 399)\n",
    "  )),\n",
    "  (2, ARRAY(NAMED_STRUCT('name', 'tablet', 'price', 599),\n",
    "            NAMED_STRUCT('name', 'headphones', 'price', 199),\n",
    "            NAMED_STRUCT('name', 'smartwatch', 'price', 299)\n",
    "  )),\n",
    "  (3, ARRAY(NAMED_STRUCT('name', 'keybboard', 'price', 89),\n",
    "            NAMED_STRUCT('name', 'mouse', 'price', 59)\n",
    "  ))\n",
    "AS orders(order_id, items);"
   ]
  },
  {
   "cell_type": "code",
   "execution_count": 0,
   "metadata": {
    "application/vnd.databricks.v1+cell": {
     "cellMetadata": {
      "byteLimit": 2048000,
      "implicitDf": true,
      "rowLimit": 10000
     },
     "inputWidgets": {},
     "nuid": "272502aa-71d1-4657-9782-ded264321800",
     "showTitle": false,
     "tableResultSettingsMap": {},
     "title": ""
    }
   },
   "outputs": [],
   "source": [
    "%sql\n",
    "SELECT * FROM order_items;"
   ]
  },
  {
   "cell_type": "code",
   "execution_count": 0,
   "metadata": {
    "application/vnd.databricks.v1+cell": {
     "cellMetadata": {
      "byteLimit": 2048000,
      "implicitDf": true,
      "rowLimit": 10000
     },
     "inputWidgets": {},
     "nuid": "f393b3ce-9441-416b-b6c6-297f53127049",
     "showTitle": true,
     "tableResultSettingsMap": {},
     "title": "1. Convert all the item names to be UPPERCASE & Add 10% TAX to each item(TRANSFORM Function)"
    }
   },
   "outputs": [],
   "source": [
    "%sql\n",
    "SELECT order_id,\n",
    "       TRANSFORM(items, x -> NAMED_STRUCT('name', UPPER(x.name), 'price', ROUND(x.price * 1.10, 2))) AS item_with_tax\n",
    "FROM order_items"
   ]
  },
  {
   "cell_type": "code",
   "execution_count": 0,
   "metadata": {
    "application/vnd.databricks.v1+cell": {
     "cellMetadata": {
      "byteLimit": 2048000,
      "implicitDf": true,
      "rowLimit": 10000
     },
     "inputWidgets": {},
     "nuid": "987c92f8-2b2f-4aee-aa6d-1eb3215f942a",
     "showTitle": true,
     "tableResultSettingsMap": {},
     "title": "2. Calculate the total order amount for each of the order (AGGREGATE Function)"
    }
   },
   "outputs": [],
   "source": [
    "%sql\n",
    "SELECT order_id,\n",
    "       AGGREGATE(items, 0, (acc, x) -> acc + x.price) AS total_order_price\n",
    "FROM order_items"
   ]
  },
  {
   "cell_type": "markdown",
   "metadata": {
    "application/vnd.databricks.v1+cell": {
     "cellMetadata": {},
     "inputWidgets": {},
     "nuid": "12b6074d-5dbe-491b-8997-f3fb0de153da",
     "showTitle": false,
     "tableResultSettingsMap": {},
     "title": ""
    }
   },
   "source": [
    "### Map Functions\n",
    "A map is a dictionary of key-value pairs, like a dictionary\n",
    "{'laptop': 1200, 'phone': 699}\n",
    "\n",
    "### Commonly used Higher Order Map Functions\n",
    "- TRANSFORM_VALUES\n",
    "- TRANSFORM_KEYS\n",
    "- MAP_FILTER\n",
    "\n",
    "### Syntax\n",
    "---\n",
    "`<function_name> (map_column, lambda_expression)`\n",
    "\n",
    "lambda expression: `(key, value) -> expression`"
   ]
  },
  {
   "cell_type": "code",
   "execution_count": 0,
   "metadata": {
    "application/vnd.databricks.v1+cell": {
     "cellMetadata": {
      "byteLimit": 2048000,
      "implicitDf": true,
      "rowLimit": 10000
     },
     "inputWidgets": {},
     "nuid": "19c80eae-377e-431e-937c-8605eccf91a1",
     "showTitle": false,
     "tableResultSettingsMap": {},
     "title": ""
    }
   },
   "outputs": [],
   "source": [
    "%sql\n",
    "CREATE OR REPLACE TEMPORARY VIEW order_items_prices\n",
    "AS\n",
    "SELECT * FROM VALUES\n",
    "  (1, map('smartphone', 699, 'laptop', 1199, 'monitor', 399)),\n",
    "  (2, map('tablet', 599, 'headphoens', 199, 'smartwatch', 299)),\n",
    "  (3, map('keyboard', 89, 'mouse', 59))\n",
    "AS orders(order_id, item_prices);"
   ]
  },
  {
   "cell_type": "code",
   "execution_count": 0,
   "metadata": {
    "application/vnd.databricks.v1+cell": {
     "cellMetadata": {
      "byteLimit": 2048000,
      "implicitDf": true,
      "rowLimit": 10000
     },
     "inputWidgets": {},
     "nuid": "1be1ba2c-8d1c-4d66-a4d5-6de26d4b8cb3",
     "showTitle": false,
     "tableResultSettingsMap": {
      "0": {
       "dataGridStateBlob": "{\"version\":1,\"tableState\":{\"columnPinning\":{\"left\":[\"#row_number#\"],\"right\":[]},\"columnSizing\":{},\"columnVisibility\":{}},\"settings\":{\"columns\":{}},\"syncTimestamp\":1760384108234}",
       "filterBlob": null,
       "queryPlanFiltersBlob": null,
       "tableResultIndex": 0
      }
     },
     "title": ""
    }
   },
   "outputs": [],
   "source": [
    "%sql\n",
    "SELECT * FROM order_items_prices;"
   ]
  },
  {
   "cell_type": "code",
   "execution_count": 0,
   "metadata": {
    "application/vnd.databricks.v1+cell": {
     "cellMetadata": {
      "byteLimit": 2048000,
      "implicitDf": true,
      "rowLimit": 10000
     },
     "inputWidgets": {},
     "nuid": "5bd78f97-e863-49f7-95e5-5a7a8dd327fe",
     "showTitle": true,
     "tableResultSettingsMap": {},
     "title": "1. Convert all the item names to be UPPERCASE (TRANSFORM_KEYS Function)"
    }
   },
   "outputs": [],
   "source": [
    "%sql\n",
    "SELECT order_id,\n",
    "       transform_keys(item_prices, (item, price) -> UPPER(item)) AS items_upper_case\n",
    "FROM order_items_prices;"
   ]
  },
  {
   "cell_type": "code",
   "execution_count": 0,
   "metadata": {
    "application/vnd.databricks.v1+cell": {
     "cellMetadata": {
      "byteLimit": 2048000,
      "implicitDf": true,
      "rowLimit": 10000
     },
     "inputWidgets": {},
     "nuid": "de1e2422-7c88-4f67-9b19-ce0a01e7079f",
     "showTitle": true,
     "tableResultSettingsMap": {},
     "title": "2. Apply 10% TAX to item prices (TRANSFORM_VALUES Function)"
    }
   },
   "outputs": [],
   "source": [
    "%sql\n",
    "SELECT order_id,\n",
    "       transform_values(item_prices, (item, price) -> ROUND(price * 1.10, 2)) AS prices_with_tax\n",
    "FROM order_items_prices;"
   ]
  },
  {
   "cell_type": "code",
   "execution_count": 0,
   "metadata": {
    "application/vnd.databricks.v1+cell": {
     "cellMetadata": {
      "byteLimit": 2048000,
      "implicitDf": true,
      "rowLimit": 10000
     },
     "inputWidgets": {},
     "nuid": "11542e0e-ba08-45da-88ec-49d04bbe5167",
     "showTitle": true,
     "tableResultSettingsMap": {},
     "title": "3. Filter only items with price above $500 (MAP_FILTER Function)"
    }
   },
   "outputs": [],
   "source": [
    "%sql\n",
    "SELECT order_id,\n",
    "       map_filter(item_prices, (item, price) -> price > 500) AS items_above_500\n",
    "FROM order_items_prices;"
   ]
  }
 ],
 "metadata": {
  "application/vnd.databricks.v1+notebook": {
   "computePreferences": null,
   "dashboards": [],
   "environmentMetadata": {
    "base_environment": "",
    "environment_version": "4"
   },
   "inputWidgetPreferences": null,
   "language": "python",
   "notebookMetadata": {
    "mostRecentlyExecutedCommandWithImplicitDF": {
     "commandId": 7920221252246899,
     "dataframes": [
      "_sqldf"
     ]
    },
    "pythonIndentUnit": 4
   },
   "notebookName": "21. Higher Order Functions",
   "widgets": {}
  },
  "language_info": {
   "name": "python"
  }
 },
 "nbformat": 4,
 "nbformat_minor": 0
}
