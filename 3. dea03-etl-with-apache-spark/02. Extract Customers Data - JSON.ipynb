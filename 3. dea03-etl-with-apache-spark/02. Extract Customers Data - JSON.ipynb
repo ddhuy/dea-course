{
 "cells": [
  {
   "cell_type": "markdown",
   "metadata": {
    "application/vnd.databricks.v1+cell": {
     "cellMetadata": {
      "byteLimit": 2048000,
      "rowLimit": 10000
     },
     "inputWidgets": {},
     "nuid": "0245e666-84d1-4439-8951-51ff160671e1",
     "showTitle": false,
     "tableResultSettingsMap": {},
     "title": ""
    }
   },
   "source": [
    "# Extract Data From the Customers JSON File\n",
    "1. Query single file\n",
    "2. Query list of files using wildcard characters\n",
    "3. Query all the files in a folder\n",
    "4. Select file metadata\n",
    "5. Register files in Unity Catalog using Views\n",
    "6. Create temporary view\n",
    "7. Create global temporary view"
   ]
  },
  {
   "cell_type": "code",
   "execution_count": 0,
   "metadata": {
    "application/vnd.databricks.v1+cell": {
     "cellMetadata": {
      "byteLimit": 2048000,
      "rowLimit": 10000
     },
     "inputWidgets": {},
     "nuid": "da6f6200-2482-4654-a278-63857fe6e3c5",
     "showTitle": true,
     "tableResultSettingsMap": {
      "0": {
       "dataGridStateBlob": "{\"version\":1,\"tableState\":{\"columnPinning\":{\"left\":[\"#row_number#\"],\"right\":[]},\"columnSizing\":{\"name\":265},\"columnVisibility\":{}},\"settings\":{\"columns\":{}},\"syncTimestamp\":1759813543962}",
       "filterBlob": null,
       "queryPlanFiltersBlob": null,
       "tableResultIndex": 0
      }
     },
     "title": "1. Query single JSON file"
    }
   },
   "outputs": [],
   "source": [
    "%fs ls /Volumes/gizmobox/landing/operational_data/customers"
   ]
  },
  {
   "cell_type": "code",
   "execution_count": 0,
   "metadata": {
    "application/vnd.databricks.v1+cell": {
     "cellMetadata": {
      "byteLimit": 2048000,
      "implicitDf": true,
      "rowLimit": 10000
     },
     "inputWidgets": {},
     "nuid": "da09fe21-d9e4-479a-9f5f-ba554ffacd85",
     "showTitle": false,
     "tableResultSettingsMap": {},
     "title": ""
    }
   },
   "outputs": [],
   "source": [
    "%sql\n",
    "SELECT * FROM JSON.`/Volumes/gizmobox/landing/operational_data/customers/customers_2024_10.json`;"
   ]
  },
  {
   "cell_type": "code",
   "execution_count": 0,
   "metadata": {
    "application/vnd.databricks.v1+cell": {
     "cellMetadata": {
      "byteLimit": 2048000,
      "implicitDf": true,
      "rowLimit": 10000
     },
     "inputWidgets": {},
     "nuid": "644ddc52-48a3-4b23-8440-06bf421c1f36",
     "showTitle": true,
     "tableResultSettingsMap": {},
     "title": "2. Query multiple JSON files"
    }
   },
   "outputs": [],
   "source": [
    "%sql\n",
    "SELECT * FROM JSON.`/Volumes/gizmobox/landing/operational_data/customers/customers_2024*.json`;"
   ]
  },
  {
   "cell_type": "code",
   "execution_count": 0,
   "metadata": {
    "application/vnd.databricks.v1+cell": {
     "cellMetadata": {
      "byteLimit": 2048000,
      "implicitDf": true,
      "rowLimit": 10000
     },
     "inputWidgets": {},
     "nuid": "0ab872fd-7412-4ccf-89ff-a455639cbd65",
     "showTitle": true,
     "tableResultSettingsMap": {},
     "title": "3. Query all the files in a folder"
    }
   },
   "outputs": [],
   "source": [
    "%sql\n",
    "SELECT * FROM JSON.`/Volumes/gizmobox/landing/operational_data/customers/*.json`;"
   ]
  },
  {
   "cell_type": "code",
   "execution_count": 0,
   "metadata": {
    "application/vnd.databricks.v1+cell": {
     "cellMetadata": {
      "byteLimit": 2048000,
      "implicitDf": true,
      "rowLimit": 10000
     },
     "inputWidgets": {},
     "nuid": "3bb4577a-84d4-4dd6-8746-f07693f01f4c",
     "showTitle": true,
     "tableResultSettingsMap": {
      "0": {
       "dataGridStateBlob": "{\"version\":1,\"tableState\":{\"columnPinning\":{\"left\":[\"#row_number#\"],\"right\":[]},\"columnSizing\":{},\"columnVisibility\":{}},\"settings\":{\"columns\":{}},\"syncTimestamp\":1759813954610}",
       "filterBlob": null,
       "queryPlanFiltersBlob": null,
       "tableResultIndex": 0
      }
     },
     "title": "4. Select file metadata"
    }
   },
   "outputs": [],
   "source": [
    "%sql\n",
    "SELECT _metadata, _metadata.file_path AS file_path, *\n",
    "FROM JSON.`/Volumes/gizmobox/landing/operational_data/customers/`;"
   ]
  },
  {
   "cell_type": "code",
   "execution_count": 0,
   "metadata": {
    "application/vnd.databricks.v1+cell": {
     "cellMetadata": {
      "byteLimit": 2048000,
      "implicitDf": true,
      "rowLimit": 10000
     },
     "inputWidgets": {},
     "nuid": "166fed35-d7c1-49ef-9112-7e0441228efa",
     "showTitle": true,
     "tableResultSettingsMap": {},
     "title": "5. Register files in Unity Catalog using Views"
    }
   },
   "outputs": [],
   "source": [
    "%sql\n",
    "CREATE OR REPLACE VIEW gizmobox.bronze.v_customers\n",
    "AS\n",
    "SELECT *, _metadata.file_path AS file_path\n",
    "FROM JSON.`/Volumes/gizmobox/landing/operational_data/customers/`;"
   ]
  },
  {
   "cell_type": "code",
   "execution_count": 0,
   "metadata": {
    "application/vnd.databricks.v1+cell": {
     "cellMetadata": {
      "byteLimit": 2048000,
      "implicitDf": true,
      "rowLimit": 10000
     },
     "inputWidgets": {},
     "nuid": "24def66b-9caa-4b54-858f-47501ed34ffa",
     "showTitle": false,
     "tableResultSettingsMap": {},
     "title": ""
    }
   },
   "outputs": [],
   "source": [
    "%sql\n",
    "SELECT * FROM gizmobox.bronze.v_customers;"
   ]
  },
  {
   "cell_type": "code",
   "execution_count": 0,
   "metadata": {
    "application/vnd.databricks.v1+cell": {
     "cellMetadata": {
      "byteLimit": 2048000,
      "implicitDf": true,
      "rowLimit": 10000
     },
     "inputWidgets": {},
     "nuid": "52db22ca-a9b7-4854-a28c-c0c1a6a5db47",
     "showTitle": true,
     "tableResultSettingsMap": {},
     "title": "6. Create temporary view"
    }
   },
   "outputs": [],
   "source": [
    "%sql\n",
    "CREATE OR REPLACE TEMPORARY VIEW tv_customers\n",
    "AS\n",
    "SELECT *, _metadata.file_path AS file_path\n",
    "FROM JSON.`/Volumes/gizmobox/landing/operational_data/customers/`;"
   ]
  },
  {
   "cell_type": "code",
   "execution_count": 0,
   "metadata": {
    "application/vnd.databricks.v1+cell": {
     "cellMetadata": {
      "byteLimit": 2048000,
      "implicitDf": true,
      "rowLimit": 10000
     },
     "inputWidgets": {},
     "nuid": "d883569c-d5c4-416a-996c-57e0dee5ee08",
     "showTitle": false,
     "tableResultSettingsMap": {},
     "title": ""
    }
   },
   "outputs": [],
   "source": [
    "%sql\n",
    "SELECT * FROM tv_customers;"
   ]
  },
  {
   "cell_type": "code",
   "execution_count": 0,
   "metadata": {
    "application/vnd.databricks.v1+cell": {
     "cellMetadata": {
      "byteLimit": 2048000,
      "implicitDf": true,
      "rowLimit": 10000
     },
     "inputWidgets": {},
     "nuid": "5cda1cb3-b3a5-40c1-9aaa-ff4276c1128b",
     "showTitle": true,
     "tableResultSettingsMap": {},
     "title": "7. Create global temporary view"
    }
   },
   "outputs": [],
   "source": [
    "%sql\n",
    "CREATE OR REPLACE GLOBAL TEMPORARY VIEW gtv_customers\n",
    "AS\n",
    "SELECT *, _metadata.file_path AS file_path\n",
    "FROM JSON.`/Volumes/gizmobox/landing/operational_data/customers/`;"
   ]
  },
  {
   "cell_type": "code",
   "execution_count": 0,
   "metadata": {
    "application/vnd.databricks.v1+cell": {
     "cellMetadata": {
      "byteLimit": 2048000,
      "implicitDf": true,
      "rowLimit": 10000
     },
     "inputWidgets": {},
     "nuid": "261aa958-7b4d-49c9-af60-a5860131fb68",
     "showTitle": false,
     "tableResultSettingsMap": {},
     "title": ""
    }
   },
   "outputs": [],
   "source": [
    "%sql\n",
    "SELECT * FROM global_temp.gtv_customers;"
   ]
  }
 ],
 "metadata": {
  "application/vnd.databricks.v1+notebook": {
   "computePreferences": {
    "hardware": {
     "accelerator": null,
     "gpuPoolId": null,
     "memory": null
    }
   },
   "dashboards": [],
   "environmentMetadata": {
    "base_environment": "",
    "environment_version": "4"
   },
   "inputWidgetPreferences": null,
   "language": "python",
   "notebookMetadata": {
    "mostRecentlyExecutedCommandWithImplicitDF": {
     "commandId": 7669640107817802,
     "dataframes": [
      "_sqldf"
     ]
    },
    "pythonIndentUnit": 4
   },
   "notebookName": "02. Extract Customers Data - JSON",
   "widgets": {}
  },
  "language_info": {
   "name": "python"
  }
 },
 "nbformat": 4,
 "nbformat_minor": 0
}
