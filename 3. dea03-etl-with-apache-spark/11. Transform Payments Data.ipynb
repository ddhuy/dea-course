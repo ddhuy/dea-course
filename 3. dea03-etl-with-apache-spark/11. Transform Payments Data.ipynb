{
 "cells": [
  {
   "cell_type": "markdown",
   "metadata": {
    "application/vnd.databricks.v1+cell": {
     "cellMetadata": {},
     "inputWidgets": {},
     "nuid": "75efd12b-8d2c-41ed-9ea3-ea92df1df45f",
     "showTitle": false,
     "tableResultSettingsMap": {},
     "title": ""
    }
   },
   "source": [
    "#Transform Payments Data\n",
    "1. Extract Date and Time from payment_timestamp and create new columns payment_data and payment_time.\n",
    "2. Map payment_status to contain descriptive values\n",
    "   (1-Success, 2-Pending, 3-Cancelled, 4-Failed)\n",
    "3. Write transformed data to the Silver schema"
   ]
  },
  {
   "cell_type": "code",
   "execution_count": 0,
   "metadata": {
    "application/vnd.databricks.v1+cell": {
     "cellMetadata": {
      "byteLimit": 2048000,
      "implicitDf": true,
      "rowLimit": 10000
     },
     "inputWidgets": {},
     "nuid": "c13df377-4292-4570-8c20-641c5a515bad",
     "showTitle": false,
     "tableResultSettingsMap": {
      "0": {
       "dataGridStateBlob": "{\"version\":1,\"tableState\":{\"columnPinning\":{\"left\":[\"#row_number#\"],\"right\":[]},\"columnSizing\":{\"payment_timestamp\":263},\"columnVisibility\":{}},\"settings\":{\"columns\":{}},\"syncTimestamp\":1759989192340}",
       "filterBlob": null,
       "queryPlanFiltersBlob": null,
       "tableResultIndex": 0
      }
     },
     "title": ""
    }
   },
   "outputs": [],
   "source": [
    "%sql\n",
    "FROM gizmobox.bronze.payments\n",
    "SELECT payment_id,\n",
    "       order_id,\n",
    "       payment_timestamp,\n",
    "       payment_status,\n",
    "       payment_method;"
   ]
  },
  {
   "cell_type": "code",
   "execution_count": 0,
   "metadata": {
    "application/vnd.databricks.v1+cell": {
     "cellMetadata": {
      "byteLimit": 2048000,
      "implicitDf": true,
      "rowLimit": 10000
     },
     "inputWidgets": {},
     "nuid": "9212f600-a07e-4fd6-9293-b72673fe65e4",
     "showTitle": true,
     "tableResultSettingsMap": {},
     "title": "1. Extract Date and Time from payment_timestamp"
    }
   },
   "outputs": [],
   "source": [
    "%sql\n",
    "FROM gizmobox.bronze.payments\n",
    "SELECT payment_id,\n",
    "       order_id,\n",
    "       CAST(date_format(payment_timestamp, 'yyyy-MM-dd') AS DATE) AS payment_date,\n",
    "       date_format(payment_timestamp, 'HH:mm:ss') AS payment_time,\n",
    "       payment_status,\n",
    "       payment_method;"
   ]
  },
  {
   "cell_type": "code",
   "execution_count": 0,
   "metadata": {
    "application/vnd.databricks.v1+cell": {
     "cellMetadata": {
      "byteLimit": 2048000,
      "implicitDf": true,
      "rowLimit": 10000
     },
     "inputWidgets": {},
     "nuid": "909e493d-762f-47ef-8b18-2a7d1bf0b7c3",
     "showTitle": true,
     "tableResultSettingsMap": {},
     "title": "2. Map payment_status to contain descriptive values"
    }
   },
   "outputs": [],
   "source": [
    "%sql\n",
    "FROM gizmobox.bronze.payments\n",
    "SELECT payment_id,\n",
    "       order_id,\n",
    "       CAST(date_format(payment_timestamp, 'yyyy-MM-dd') AS DATE) AS payment_date,\n",
    "       date_format(payment_timestamp, 'HH:mm:ss') AS payment_time,\n",
    "       CASE payment_status\n",
    "        WHEN 1 THEN 'Success'\n",
    "        WHEN 2 THEN 'Pending'\n",
    "        WHEN 3 THEN 'Cancelled'\n",
    "        WHEN 4 THEN 'Failed'\n",
    "        ELSE 'Unknown'\n",
    "       END AS payment_status,\n",
    "       payment_method;"
   ]
  },
  {
   "cell_type": "code",
   "execution_count": 0,
   "metadata": {
    "application/vnd.databricks.v1+cell": {
     "cellMetadata": {
      "byteLimit": 2048000,
      "implicitDf": true,
      "rowLimit": 10000
     },
     "inputWidgets": {},
     "nuid": "d7a4fab5-57db-4498-8bbe-e9213e796f0b",
     "showTitle": true,
     "tableResultSettingsMap": {},
     "title": "3. Write transformed data to the Silver schema"
    }
   },
   "outputs": [],
   "source": [
    "%sql\n",
    "CREATE TABLE IF NOT EXISTS gizmobox.silver.payments\n",
    "AS\n",
    "FROM gizmobox.bronze.payments\n",
    "SELECT payment_id,\n",
    "       order_id,\n",
    "       CAST(date_format(payment_timestamp, 'yyyy-MM-dd') AS DATE) AS payment_date,\n",
    "       date_format(payment_timestamp, 'HH:mm:ss') AS payment_time,\n",
    "       CASE payment_status\n",
    "        WHEN 1 THEN 'Success'\n",
    "        WHEN 2 THEN 'Pending'\n",
    "        WHEN 3 THEN 'Cancelled'\n",
    "        WHEN 4 THEN 'Failed'\n",
    "        ELSE 'Unknown'\n",
    "       END AS payment_status,\n",
    "       payment_method;"
   ]
  },
  {
   "cell_type": "code",
   "execution_count": 0,
   "metadata": {
    "application/vnd.databricks.v1+cell": {
     "cellMetadata": {
      "byteLimit": 2048000,
      "implicitDf": true,
      "rowLimit": 10000
     },
     "inputWidgets": {},
     "nuid": "c783b36c-98e8-47fb-89ea-56342588f423",
     "showTitle": false,
     "tableResultSettingsMap": {},
     "title": ""
    }
   },
   "outputs": [],
   "source": [
    "%sql\n",
    "SELECT * FROM gizmobox.silver.payments;"
   ]
  }
 ],
 "metadata": {
  "application/vnd.databricks.v1+notebook": {
   "computePreferences": {
    "hardware": {
     "accelerator": null,
     "gpuPoolId": null,
     "memory": null
    }
   },
   "dashboards": [],
   "environmentMetadata": {
    "base_environment": "",
    "environment_version": "4"
   },
   "inputWidgetPreferences": null,
   "language": "python",
   "notebookMetadata": {
    "mostRecentlyExecutedCommandWithImplicitDF": {
     "commandId": 8056457079917015,
     "dataframes": [
      "_sqldf"
     ]
    },
    "pythonIndentUnit": 4
   },
   "notebookName": "11. Transform Payments Data",
   "widgets": {}
  },
  "language_info": {
   "name": "python"
  }
 },
 "nbformat": 4,
 "nbformat_minor": 0
}
