{
 "cells": [
  {
   "cell_type": "markdown",
   "metadata": {
    "application/vnd.databricks.v1+cell": {
     "cellMetadata": {},
     "inputWidgets": {},
     "nuid": "124c1108-2a9b-454e-adf8-f3eaf8085d6b",
     "showTitle": false,
     "tableResultSettingsMap": {},
     "title": ""
    }
   },
   "source": [
    "#Transform Addresses Data\n",
    "1. Create one record for each customer with 2 sets of address columns, 1 for shipping and 1 for billing address\n",
    "2. Write the transformed data to the Silver schema"
   ]
  },
  {
   "cell_type": "code",
   "execution_count": 0,
   "metadata": {
    "application/vnd.databricks.v1+cell": {
     "cellMetadata": {
      "byteLimit": 2048000,
      "implicitDf": true,
      "rowLimit": 10000
     },
     "inputWidgets": {},
     "nuid": "b36c7355-0628-40f9-bc9c-f45a4076e18e",
     "showTitle": false,
     "tableResultSettingsMap": {},
     "title": ""
    }
   },
   "outputs": [],
   "source": [
    "%sql\n",
    "SELECT customer_id,\n",
    "       address_type,\n",
    "       address_line_1,\n",
    "       city,\n",
    "       state,\n",
    "       postcode\n",
    "FROM gizmobox.bronze.v_addresses;"
   ]
  },
  {
   "cell_type": "code",
   "execution_count": 0,
   "metadata": {
    "application/vnd.databricks.v1+cell": {
     "cellMetadata": {
      "byteLimit": 2048000,
      "implicitDf": true,
      "rowLimit": 10000
     },
     "inputWidgets": {},
     "nuid": "b133c69f-23c3-4aa0-82da-d6c10fb68663",
     "showTitle": true,
     "tableResultSettingsMap": {},
     "title": "1. Create one record for each customer with 2 sets of address columns, 1 for shipping and 1 for billing address"
    }
   },
   "outputs": [],
   "source": [
    "%sql\n",
    "SELECT *\n",
    "FROM (\n",
    "  SELECT customer_id,\n",
    "        address_type,\n",
    "        address_line_1,\n",
    "        city,\n",
    "        state,\n",
    "        postcode\n",
    "  FROM gizmobox.bronze.v_addresses\n",
    ")\n",
    "PIVOT (\n",
    "  MAX(address_line_1) AS address_line_1,\n",
    "  MAX(city) AS city,\n",
    "  MAX(state) AS state,\n",
    "  MAX(postcode) AS postcode\n",
    "  FOR address_type IN ('shipping', 'billing') \n",
    ");"
   ]
  },
  {
   "cell_type": "code",
   "execution_count": 0,
   "metadata": {
    "application/vnd.databricks.v1+cell": {
     "cellMetadata": {
      "byteLimit": 2048000,
      "implicitDf": true,
      "rowLimit": 10000
     },
     "inputWidgets": {},
     "nuid": "5b62ae9a-def0-48a5-be40-f66921ad5fde",
     "showTitle": true,
     "tableResultSettingsMap": {},
     "title": "2. Write the transformed data to the Silver schema"
    }
   },
   "outputs": [],
   "source": [
    "%sql\n",
    "CREATE TABLE IF NOT EXISTS gizmobox.silver.addresses\n",
    "AS\n",
    "SELECT *\n",
    "FROM (\n",
    "  SELECT customer_id,\n",
    "        address_type,\n",
    "        address_line_1,\n",
    "        city,\n",
    "        state,\n",
    "        postcode\n",
    "  FROM gizmobox.bronze.v_addresses\n",
    ")\n",
    "PIVOT (\n",
    "  MAX(address_line_1) AS address_line_1,\n",
    "  MAX(city) AS city,\n",
    "  MAX(state) AS state,\n",
    "  MAX(postcode) AS postcode\n",
    "  FOR address_type IN ('shipping', 'billing') \n",
    ");"
   ]
  },
  {
   "cell_type": "code",
   "execution_count": 0,
   "metadata": {
    "application/vnd.databricks.v1+cell": {
     "cellMetadata": {
      "byteLimit": 2048000,
      "implicitDf": true,
      "rowLimit": 10000
     },
     "inputWidgets": {},
     "nuid": "75a04bf1-0692-421d-b497-203da3d39d67",
     "showTitle": false,
     "tableResultSettingsMap": {},
     "title": ""
    }
   },
   "outputs": [],
   "source": [
    "%sql\n",
    "SELECT * FROM gizmobox.silver.addresses;"
   ]
  }
 ],
 "metadata": {
  "application/vnd.databricks.v1+notebook": {
   "computePreferences": null,
   "dashboards": [],
   "environmentMetadata": {
    "base_environment": "",
    "environment_version": "4"
   },
   "inputWidgetPreferences": null,
   "language": "python",
   "notebookMetadata": {
    "mostRecentlyExecutedCommandWithImplicitDF": {
     "commandId": 8945687782371348,
     "dataframes": [
      "_sqldf"
     ]
    },
    "pythonIndentUnit": 4
   },
   "notebookName": "14. Transform Addresses Data",
   "widgets": {}
  },
  "language_info": {
   "name": "python"
  }
 },
 "nbformat": 4,
 "nbformat_minor": 0
}
