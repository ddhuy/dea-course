{
 "cells": [
  {
   "cell_type": "markdown",
   "metadata": {
    "application/vnd.databricks.v1+cell": {
     "cellMetadata": {},
     "inputWidgets": {},
     "nuid": "e73aca65-e026-4434-bdee-7207ca7d6b6b",
     "showTitle": false,
     "tableResultSettingsMap": {},
     "title": ""
    }
   },
   "source": [
    "# Set-up the project environment for Gizmobox Data Lakehouse"
   ]
  },
  {
   "cell_type": "code",
   "execution_count": 0,
   "metadata": {
    "application/vnd.databricks.v1+cell": {
     "cellMetadata": {
      "byteLimit": 2048000,
      "implicitDf": true,
      "rowLimit": 10000
     },
     "inputWidgets": {},
     "nuid": "04d4e22a-dc95-44fb-9037-fca610c7744c",
     "showTitle": true,
     "tableResultSettingsMap": {},
     "title": "1. Create the external location"
    }
   },
   "outputs": [],
   "source": [
    "%sql\n",
    "CREATE EXTERNAL LOCATION IF NOT EXISTS dea_course_ext_dl_gizmobox\n",
    "  URL 'abfss://gizmobox@deacourseextdl137.dfs.core.windows.net/'\n",
    "  WITH (STORAGE CREDENTIAL dea_course_ext_sc)\n",
    "  COMMENT 'External Location for the Gizmobox Data Lakehouse'"
   ]
  },
  {
   "cell_type": "code",
   "execution_count": 0,
   "metadata": {
    "application/vnd.databricks.v1+cell": {
     "cellMetadata": {
      "byteLimit": 2048000,
      "rowLimit": 10000
     },
     "inputWidgets": {},
     "nuid": "b18643be-f90e-4f1b-bbfd-a144248dc019",
     "showTitle": true,
     "tableResultSettingsMap": {
      "0": {
       "dataGridStateBlob": "{\"version\":1,\"tableState\":{\"columnPinning\":{\"left\":[\"#row_number#\"],\"right\":[]},\"columnSizing\":{\"path\":532,\"name\":175},\"columnVisibility\":{}},\"settings\":{\"columns\":{}},\"syncTimestamp\":1759561494041}",
       "filterBlob": null,
       "queryPlanFiltersBlob": null,
       "tableResultIndex": 0
      }
     },
     "title": "2. Access the container Gizmobox"
    }
   },
   "outputs": [],
   "source": [
    "%fs ls 'abfss://gizmobox@deacourseextdl137.dfs.core.windows.net/landing'"
   ]
  },
  {
   "cell_type": "code",
   "execution_count": 0,
   "metadata": {
    "application/vnd.databricks.v1+cell": {
     "cellMetadata": {
      "byteLimit": 2048000,
      "implicitDf": true,
      "rowLimit": 10000
     },
     "inputWidgets": {},
     "nuid": "aee162e7-9e72-471c-b7b9-8ad12e0eddfd",
     "showTitle": true,
     "tableResultSettingsMap": {},
     "title": "3. Create the catalog - gizmobox"
    }
   },
   "outputs": [],
   "source": [
    "%sql\n",
    "SHOW CATALOGS;"
   ]
  },
  {
   "cell_type": "code",
   "execution_count": 0,
   "metadata": {
    "application/vnd.databricks.v1+cell": {
     "cellMetadata": {
      "byteLimit": 2048000,
      "implicitDf": true,
      "rowLimit": 10000
     },
     "inputWidgets": {},
     "nuid": "f3a143a9-8241-4901-8cc0-7ba619494ea9",
     "showTitle": false,
     "tableResultSettingsMap": {},
     "title": ""
    }
   },
   "outputs": [],
   "source": [
    "%sql\n",
    "CREATE CATALOG IF NOT EXISTS gizmobox\n",
    "  MANAGED LOCATION 'abfss://gizmobox@deacourseextdl137.dfs.core.windows.net/'\n",
    "  COMMENT 'Catalog for the Gizmobox Data Lakehouse';\n"
   ]
  },
  {
   "cell_type": "code",
   "execution_count": 0,
   "metadata": {
    "application/vnd.databricks.v1+cell": {
     "cellMetadata": {
      "byteLimit": 2048000,
      "implicitDf": true,
      "rowLimit": 10000
     },
     "inputWidgets": {},
     "nuid": "cf728df5-7cba-454d-8829-6f9cd161a111",
     "showTitle": true,
     "tableResultSettingsMap": {},
     "title": "4. Create Schemas: Landing, Bronze, Silver, Gold"
    }
   },
   "outputs": [],
   "source": [
    "%sql\n",
    "SELECT current_catalog();"
   ]
  },
  {
   "cell_type": "code",
   "execution_count": 0,
   "metadata": {
    "application/vnd.databricks.v1+cell": {
     "cellMetadata": {
      "byteLimit": 2048000,
      "implicitDf": true,
      "rowLimit": 10000
     },
     "inputWidgets": {},
     "nuid": "3bc3d183-63aa-4733-bf10-2b6196de58b9",
     "showTitle": false,
     "tableResultSettingsMap": {},
     "title": ""
    }
   },
   "outputs": [],
   "source": [
    "%sql\n",
    "USE CATALOG gizmobox;\n",
    "\n",
    "CREATE SCHEMA IF NOT EXISTS landing\n",
    "  MANAGED LOCATION 'abfss://gizmobox@deacourseextdl137.dfs.core.windows.net/landing';\n",
    "\n",
    "CREATE SCHEMA IF NOT EXISTS bronze\n",
    "  MANAGED LOCATION 'abfss://gizmobox@deacourseextdl137.dfs.core.windows.net/bronze';\n",
    "\n",
    "CREATE SCHEMA IF NOT EXISTS silver\n",
    "  MANAGED LOCATION 'abfss://gizmobox@deacourseextdl137.dfs.core.windows.net/silver';\n",
    "\n",
    "CREATE SCHEMA IF NOT EXISTS gold\n",
    "  MANAGED LOCATION 'abfss://gizmobox@deacourseextdl137.dfs.core.windows.net/gold';\n"
   ]
  },
  {
   "cell_type": "code",
   "execution_count": 0,
   "metadata": {
    "application/vnd.databricks.v1+cell": {
     "cellMetadata": {
      "byteLimit": 2048000,
      "implicitDf": true,
      "rowLimit": 10000
     },
     "inputWidgets": {},
     "nuid": "83aae542-cfa0-4fa9-872c-dc664948348a",
     "showTitle": false,
     "tableResultSettingsMap": {},
     "title": ""
    }
   },
   "outputs": [],
   "source": [
    "%sql\n",
    "SHOW SCHEMAS;"
   ]
  },
  {
   "cell_type": "code",
   "execution_count": 0,
   "metadata": {
    "application/vnd.databricks.v1+cell": {
     "cellMetadata": {
      "byteLimit": 2048000,
      "implicitDf": true,
      "rowLimit": 10000
     },
     "inputWidgets": {},
     "nuid": "7718347c-909b-4179-b470-9be095a03b72",
     "showTitle": false,
     "tableResultSettingsMap": {},
     "title": ""
    }
   },
   "outputs": [],
   "source": [
    "%sql\n",
    "USE CATALOG gizmobox;\n",
    "USE SCHEMA landing;\n",
    "\n",
    "CREATE EXTERNAL VOLUME IF NOT EXISTS operational_data\n",
    "  LOCATION 'abfss://gizmobox@deacourseextdl137.dfs.core.windows.net/landing/operational_data';"
   ]
  },
  {
   "cell_type": "code",
   "execution_count": 0,
   "metadata": {
    "application/vnd.databricks.v1+cell": {
     "cellMetadata": {
      "byteLimit": 2048000,
      "rowLimit": 10000
     },
     "inputWidgets": {},
     "nuid": "944f2315-255a-4920-9ee7-e2687d2faa72",
     "showTitle": false,
     "tableResultSettingsMap": {},
     "title": ""
    }
   },
   "outputs": [],
   "source": [
    "%fs ls '/Volumes/gizmobox/landing/operational_data'"
   ]
  }
 ],
 "metadata": {
  "application/vnd.databricks.v1+notebook": {
   "computePreferences": null,
   "dashboards": [],
   "environmentMetadata": {
    "base_environment": "",
    "environment_version": "3"
   },
   "inputWidgetPreferences": null,
   "language": "python",
   "notebookMetadata": {
    "mostRecentlyExecutedCommandWithImplicitDF": {
     "commandId": 5390838264159810,
     "dataframes": [
      "_sqldf"
     ]
    },
    "pythonIndentUnit": 4
   },
   "notebookName": "01. Set-up Project Environment",
   "widgets": {}
  },
  "language_info": {
   "name": "python"
  }
 },
 "nbformat": 4,
 "nbformat_minor": 0
}
