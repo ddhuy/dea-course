{
 "cells": [
  {
   "cell_type": "markdown",
   "metadata": {
    "application/vnd.databricks.v1+cell": {
     "cellMetadata": {},
     "inputWidgets": {},
     "nuid": "430b5d20-8564-4e2f-9cd0-50fbeaedfa6c",
     "showTitle": false,
     "tableResultSettingsMap": {},
     "title": ""
    }
   },
   "source": [
    "#Extract Data - Using Python\n",
    "1. Run SQL commands using Python - spark.sql function\n",
    "2. Spark Dataframe reader API\n",
    "3. Read tables using spark.table function"
   ]
  },
  {
   "cell_type": "code",
   "execution_count": 0,
   "metadata": {
    "application/vnd.databricks.v1+cell": {
     "cellMetadata": {
      "byteLimit": 2048000,
      "rowLimit": 10000
     },
     "inputWidgets": {},
     "nuid": "49862e40-688b-4ce0-ba12-53272810edf7",
     "showTitle": true,
     "tableResultSettingsMap": {},
     "title": "1. Run SQL commands using Python - spark.sql function"
    }
   },
   "outputs": [],
   "source": [
    "df = spark.sql(\"SELECT * FROM json.`/Volumes/gizmobox/landing/operational_data/customers`\")\n",
    "display(df)"
   ]
  },
  {
   "cell_type": "code",
   "execution_count": 0,
   "metadata": {
    "application/vnd.databricks.v1+cell": {
     "cellMetadata": {
      "byteLimit": 2048000,
      "rowLimit": 10000
     },
     "inputWidgets": {},
     "nuid": "f35d8f43-9865-4455-af1e-0ddb6ff0064e",
     "showTitle": false,
     "tableResultSettingsMap": {},
     "title": ""
    }
   },
   "outputs": [],
   "source": [
    "spark.sql(\"\"\"CREATE OR REPLACE TEMPORARY VIEW tv_customers\n",
    "             AS\n",
    "             SELECT * FROM JSON.`/Volumes/gizmobox/landing/operational_data/customers`\n",
    "          \"\"\")"
   ]
  },
  {
   "cell_type": "code",
   "execution_count": 0,
   "metadata": {
    "application/vnd.databricks.v1+cell": {
     "cellMetadata": {
      "byteLimit": 2048000,
      "rowLimit": 10000
     },
     "inputWidgets": {},
     "nuid": "59d54444-ca5c-4c12-80f1-91c1369bd4e9",
     "showTitle": false,
     "tableResultSettingsMap": {},
     "title": ""
    }
   },
   "outputs": [],
   "source": [
    "df = spark.sql(\"SELECT * FROM tv_customers\")\n",
    "display(df)"
   ]
  },
  {
   "cell_type": "code",
   "execution_count": 0,
   "metadata": {
    "application/vnd.databricks.v1+cell": {
     "cellMetadata": {
      "byteLimit": 2048000,
      "rowLimit": 10000
     },
     "inputWidgets": {},
     "nuid": "fd60df37-3398-43ab-99df-8ae232c872f5",
     "showTitle": true,
     "tableResultSettingsMap": {},
     "title": "2. Spark Dataframe reader API"
    }
   },
   "outputs": [],
   "source": [
    "spark.read.format('json').load('/Volumes/gizmobox/landing/operational_data/customers').display()"
   ]
  },
  {
   "cell_type": "code",
   "execution_count": 0,
   "metadata": {
    "application/vnd.databricks.v1+cell": {
     "cellMetadata": {
      "byteLimit": 2048000,
      "rowLimit": 10000
     },
     "inputWidgets": {},
     "nuid": "dfdad63e-9b50-47bd-b65f-c0e0703db8d3",
     "showTitle": true,
     "tableResultSettingsMap": {},
     "title": "3. Read tables using spark.table function"
    }
   },
   "outputs": [],
   "source": [
    "spark.table(\"tv_customers\").display()"
   ]
  }
 ],
 "metadata": {
  "application/vnd.databricks.v1+notebook": {
   "computePreferences": null,
   "dashboards": [],
   "environmentMetadata": {
    "base_environment": "",
    "environment_version": "3"
   },
   "inputWidgetPreferences": null,
   "language": "python",
   "notebookMetadata": {
    "pythonIndentUnit": 4
   },
   "notebookName": "08. Extract Data - Using Python",
   "widgets": {}
  },
  "language_info": {
   "name": "python"
  }
 },
 "nbformat": 4,
 "nbformat_minor": 0
}
